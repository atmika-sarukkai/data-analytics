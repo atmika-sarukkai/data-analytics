{
  "nbformat": 4,
  "nbformat_minor": 0,
  "metadata": {
    "colab": {
      "name": "Mental_Health_Treatment_prediction.ipynb",
      "provenance": [],
      "collapsed_sections": []
    },
    "kernelspec": {
      "name": "python3",
      "display_name": "Python 3"
    },
    "language_info": {
      "name": "python"
    }
  },
  "cells": [
    {
      "cell_type": "code",
      "execution_count": 1,
      "metadata": {
        "id": "akfqxI1vnRSS",
        "colab": {
          "base_uri": "https://localhost:8080/"
        },
        "outputId": "754b24f0-4c0a-4be6-a457-0461150a82fa"
      },
      "outputs": [
        {
          "output_type": "stream",
          "name": "stderr",
          "text": [
            "/usr/local/lib/python3.7/dist-packages/statsmodels/tools/_testing.py:19: FutureWarning: pandas.util.testing is deprecated. Use the functions in the public API at pandas.testing instead.\n",
            "  import pandas.util.testing as tm\n"
          ]
        }
      ],
      "source": [
        "import numpy as np\n",
        "import pandas as pd\n",
        "import matplotlib.pyplot as plt\n",
        "from sklearn import preprocessing\n",
        "from sklearn.preprocessing import MinMaxScaler, LabelEncoder\n",
        "import statsmodels.formula.api as smf\n",
        "from sklearn.linear_model import LinearRegression\n",
        "from sklearn.model_selection import train_test_split\n",
        "from sklearn.metrics import accuracy_score, confusion_matrix\n",
        "from sklearn.linear_model import Ridge\n",
        "from sklearn.preprocessing import StandardScaler\n",
        "from sklearn.decomposition import PCA\n",
        "from sklearn.linear_model import LinearRegression\n",
        "from sklearn.pipeline import Pipeline\n",
        "from sklearn.model_selection import GridSearchCV\n",
        "from sklearn.ensemble import GradientBoostingClassifier\n",
        "import sklearn\n",
        "import plotly.graph_objects as go\n",
        "import plotly.express as px\n",
        "from sklearn.metrics import recall_score\n",
        "from sklearn.tree import DecisionTreeClassifier\n",
        "from sklearn.tree import plot_tree"
      ]
    },
    {
      "cell_type": "code",
      "source": [
        "from google.colab import drive\n",
        "drive.mount('/content/drive')\n",
        "import os\n",
        "os.chdir('/content/drive/MyDrive/IEOR_142_Final_Project')"
      ],
      "metadata": {
        "id": "IQ5amCPZq_Nh",
        "colab": {
          "base_uri": "https://localhost:8080/"
        },
        "outputId": "36cac384-7548-42f7-cb7c-196139143b3d"
      },
      "execution_count": 4,
      "outputs": [
        {
          "output_type": "stream",
          "name": "stdout",
          "text": [
            "Drive already mounted at /content/drive; to attempt to forcibly remount, call drive.mount(\"/content/drive\", force_remount=True).\n"
          ]
        }
      ]
    },
    {
      "cell_type": "code",
      "source": [
        "survey = pd.read_csv(\"final_survey_data.csv\")\n",
        "survey"
      ],
      "metadata": {
        "colab": {
          "base_uri": "https://localhost:8080/",
          "height": 505
        },
        "id": "BAH8qAhPnUWn",
        "outputId": "81464889-47a4-4ebc-8f9f-d3e241072d42"
      },
      "execution_count": 5,
      "outputs": [
        {
          "output_type": "execute_result",
          "data": {
            "text/html": [
              "\n",
              "  <div id=\"df-ec491c26-3173-4d8a-a32a-c4fe9af7e6c8\">\n",
              "    <div class=\"colab-df-container\">\n",
              "      <div>\n",
              "<style scoped>\n",
              "    .dataframe tbody tr th:only-of-type {\n",
              "        vertical-align: middle;\n",
              "    }\n",
              "\n",
              "    .dataframe tbody tr th {\n",
              "        vertical-align: top;\n",
              "    }\n",
              "\n",
              "    .dataframe thead th {\n",
              "        text-align: right;\n",
              "    }\n",
              "</style>\n",
              "<table border=\"1\" class=\"dataframe\">\n",
              "  <thead>\n",
              "    <tr style=\"text-align: right;\">\n",
              "      <th></th>\n",
              "      <th>Unnamed: 0</th>\n",
              "      <th>Age</th>\n",
              "      <th>Gender</th>\n",
              "      <th>Country</th>\n",
              "      <th>self_employed</th>\n",
              "      <th>family_history</th>\n",
              "      <th>treatment</th>\n",
              "      <th>work_interface</th>\n",
              "      <th>no_employees</th>\n",
              "      <th>benefits</th>\n",
              "      <th>care_options</th>\n",
              "      <th>wellness_program</th>\n",
              "      <th>seek_help</th>\n",
              "      <th>anonymity</th>\n",
              "      <th>leave</th>\n",
              "      <th>supervisor</th>\n",
              "      <th>coworkers</th>\n",
              "      <th>phys_health_interview</th>\n",
              "      <th>mental_health_interview</th>\n",
              "    </tr>\n",
              "  </thead>\n",
              "  <tbody>\n",
              "    <tr>\n",
              "      <th>0</th>\n",
              "      <td>96</td>\n",
              "      <td>0.232143</td>\n",
              "      <td>0</td>\n",
              "      <td>60</td>\n",
              "      <td>0</td>\n",
              "      <td>1</td>\n",
              "      <td>1</td>\n",
              "      <td>4</td>\n",
              "      <td>1</td>\n",
              "      <td>1</td>\n",
              "      <td>2</td>\n",
              "      <td>1</td>\n",
              "      <td>0</td>\n",
              "      <td>0</td>\n",
              "      <td>1</td>\n",
              "      <td>2</td>\n",
              "      <td>2</td>\n",
              "      <td>2</td>\n",
              "      <td>1</td>\n",
              "    </tr>\n",
              "    <tr>\n",
              "      <th>1</th>\n",
              "      <td>97</td>\n",
              "      <td>0.303571</td>\n",
              "      <td>1</td>\n",
              "      <td>60</td>\n",
              "      <td>0</td>\n",
              "      <td>1</td>\n",
              "      <td>0</td>\n",
              "      <td>1</td>\n",
              "      <td>1</td>\n",
              "      <td>3</td>\n",
              "      <td>2</td>\n",
              "      <td>1</td>\n",
              "      <td>1</td>\n",
              "      <td>0</td>\n",
              "      <td>1</td>\n",
              "      <td>1</td>\n",
              "      <td>2</td>\n",
              "      <td>2</td>\n",
              "      <td>1</td>\n",
              "    </tr>\n",
              "    <tr>\n",
              "      <th>2</th>\n",
              "      <td>98</td>\n",
              "      <td>0.392857</td>\n",
              "      <td>1</td>\n",
              "      <td>62</td>\n",
              "      <td>0</td>\n",
              "      <td>2</td>\n",
              "      <td>1</td>\n",
              "      <td>4</td>\n",
              "      <td>4</td>\n",
              "      <td>0</td>\n",
              "      <td>0</td>\n",
              "      <td>0</td>\n",
              "      <td>1</td>\n",
              "      <td>2</td>\n",
              "      <td>0</td>\n",
              "      <td>2</td>\n",
              "      <td>1</td>\n",
              "      <td>0</td>\n",
              "      <td>1</td>\n",
              "    </tr>\n",
              "    <tr>\n",
              "      <th>3</th>\n",
              "      <td>99</td>\n",
              "      <td>0.142857</td>\n",
              "      <td>1</td>\n",
              "      <td>62</td>\n",
              "      <td>0</td>\n",
              "      <td>0</td>\n",
              "      <td>1</td>\n",
              "      <td>4</td>\n",
              "      <td>5</td>\n",
              "      <td>3</td>\n",
              "      <td>2</td>\n",
              "      <td>0</td>\n",
              "      <td>0</td>\n",
              "      <td>2</td>\n",
              "      <td>0</td>\n",
              "      <td>2</td>\n",
              "      <td>2</td>\n",
              "      <td>1</td>\n",
              "      <td>1</td>\n",
              "    </tr>\n",
              "    <tr>\n",
              "      <th>4</th>\n",
              "      <td>100</td>\n",
              "      <td>0.285714</td>\n",
              "      <td>1</td>\n",
              "      <td>62</td>\n",
              "      <td>0</td>\n",
              "      <td>2</td>\n",
              "      <td>0</td>\n",
              "      <td>3</td>\n",
              "      <td>1</td>\n",
              "      <td>3</td>\n",
              "      <td>0</td>\n",
              "      <td>1</td>\n",
              "      <td>0</td>\n",
              "      <td>2</td>\n",
              "      <td>5</td>\n",
              "      <td>1</td>\n",
              "      <td>1</td>\n",
              "      <td>0</td>\n",
              "      <td>1</td>\n",
              "    </tr>\n",
              "    <tr>\n",
              "      <th>...</th>\n",
              "      <td>...</td>\n",
              "      <td>...</td>\n",
              "      <td>...</td>\n",
              "      <td>...</td>\n",
              "      <td>...</td>\n",
              "      <td>...</td>\n",
              "      <td>...</td>\n",
              "      <td>...</td>\n",
              "      <td>...</td>\n",
              "      <td>...</td>\n",
              "      <td>...</td>\n",
              "      <td>...</td>\n",
              "      <td>...</td>\n",
              "      <td>...</td>\n",
              "      <td>...</td>\n",
              "      <td>...</td>\n",
              "      <td>...</td>\n",
              "      <td>...</td>\n",
              "      <td>...</td>\n",
              "    </tr>\n",
              "    <tr>\n",
              "      <th>1517</th>\n",
              "      <td>1613</td>\n",
              "      <td>0.267857</td>\n",
              "      <td>1</td>\n",
              "      <td>61</td>\n",
              "      <td>0</td>\n",
              "      <td>2</td>\n",
              "      <td>1</td>\n",
              "      <td>4</td>\n",
              "      <td>1</td>\n",
              "      <td>3</td>\n",
              "      <td>2</td>\n",
              "      <td>2</td>\n",
              "      <td>1</td>\n",
              "      <td>2</td>\n",
              "      <td>1</td>\n",
              "      <td>0</td>\n",
              "      <td>1</td>\n",
              "      <td>0</td>\n",
              "      <td>1</td>\n",
              "    </tr>\n",
              "    <tr>\n",
              "      <th>1518</th>\n",
              "      <td>1614</td>\n",
              "      <td>0.214286</td>\n",
              "      <td>1</td>\n",
              "      <td>60</td>\n",
              "      <td>0</td>\n",
              "      <td>1</td>\n",
              "      <td>1</td>\n",
              "      <td>5</td>\n",
              "      <td>2</td>\n",
              "      <td>1</td>\n",
              "      <td>0</td>\n",
              "      <td>1</td>\n",
              "      <td>1</td>\n",
              "      <td>0</td>\n",
              "      <td>5</td>\n",
              "      <td>1</td>\n",
              "      <td>1</td>\n",
              "      <td>1</td>\n",
              "      <td>1</td>\n",
              "    </tr>\n",
              "    <tr>\n",
              "      <th>1519</th>\n",
              "      <td>1615</td>\n",
              "      <td>0.321429</td>\n",
              "      <td>1</td>\n",
              "      <td>61</td>\n",
              "      <td>0</td>\n",
              "      <td>2</td>\n",
              "      <td>1</td>\n",
              "      <td>2</td>\n",
              "      <td>2</td>\n",
              "      <td>3</td>\n",
              "      <td>2</td>\n",
              "      <td>1</td>\n",
              "      <td>1</td>\n",
              "      <td>2</td>\n",
              "      <td>4</td>\n",
              "      <td>2</td>\n",
              "      <td>1</td>\n",
              "      <td>1</td>\n",
              "      <td>1</td>\n",
              "    </tr>\n",
              "    <tr>\n",
              "      <th>1520</th>\n",
              "      <td>1616</td>\n",
              "      <td>0.357143</td>\n",
              "      <td>1</td>\n",
              "      <td>61</td>\n",
              "      <td>0</td>\n",
              "      <td>2</td>\n",
              "      <td>1</td>\n",
              "      <td>4</td>\n",
              "      <td>5</td>\n",
              "      <td>3</td>\n",
              "      <td>2</td>\n",
              "      <td>1</td>\n",
              "      <td>1</td>\n",
              "      <td>0</td>\n",
              "      <td>4</td>\n",
              "      <td>0</td>\n",
              "      <td>0</td>\n",
              "      <td>1</td>\n",
              "      <td>1</td>\n",
              "    </tr>\n",
              "    <tr>\n",
              "      <th>1521</th>\n",
              "      <td>1617</td>\n",
              "      <td>0.571429</td>\n",
              "      <td>0</td>\n",
              "      <td>61</td>\n",
              "      <td>0</td>\n",
              "      <td>1</td>\n",
              "      <td>0</td>\n",
              "      <td>5</td>\n",
              "      <td>1</td>\n",
              "      <td>1</td>\n",
              "      <td>2</td>\n",
              "      <td>1</td>\n",
              "      <td>1</td>\n",
              "      <td>0</td>\n",
              "      <td>1</td>\n",
              "      <td>0</td>\n",
              "      <td>0</td>\n",
              "      <td>1</td>\n",
              "      <td>1</td>\n",
              "    </tr>\n",
              "  </tbody>\n",
              "</table>\n",
              "<p>1522 rows × 19 columns</p>\n",
              "</div>\n",
              "      <button class=\"colab-df-convert\" onclick=\"convertToInteractive('df-ec491c26-3173-4d8a-a32a-c4fe9af7e6c8')\"\n",
              "              title=\"Convert this dataframe to an interactive table.\"\n",
              "              style=\"display:none;\">\n",
              "        \n",
              "  <svg xmlns=\"http://www.w3.org/2000/svg\" height=\"24px\"viewBox=\"0 0 24 24\"\n",
              "       width=\"24px\">\n",
              "    <path d=\"M0 0h24v24H0V0z\" fill=\"none\"/>\n",
              "    <path d=\"M18.56 5.44l.94 2.06.94-2.06 2.06-.94-2.06-.94-.94-2.06-.94 2.06-2.06.94zm-11 1L8.5 8.5l.94-2.06 2.06-.94-2.06-.94L8.5 2.5l-.94 2.06-2.06.94zm10 10l.94 2.06.94-2.06 2.06-.94-2.06-.94-.94-2.06-.94 2.06-2.06.94z\"/><path d=\"M17.41 7.96l-1.37-1.37c-.4-.4-.92-.59-1.43-.59-.52 0-1.04.2-1.43.59L10.3 9.45l-7.72 7.72c-.78.78-.78 2.05 0 2.83L4 21.41c.39.39.9.59 1.41.59.51 0 1.02-.2 1.41-.59l7.78-7.78 2.81-2.81c.8-.78.8-2.07 0-2.86zM5.41 20L4 18.59l7.72-7.72 1.47 1.35L5.41 20z\"/>\n",
              "  </svg>\n",
              "      </button>\n",
              "      \n",
              "  <style>\n",
              "    .colab-df-container {\n",
              "      display:flex;\n",
              "      flex-wrap:wrap;\n",
              "      gap: 12px;\n",
              "    }\n",
              "\n",
              "    .colab-df-convert {\n",
              "      background-color: #E8F0FE;\n",
              "      border: none;\n",
              "      border-radius: 50%;\n",
              "      cursor: pointer;\n",
              "      display: none;\n",
              "      fill: #1967D2;\n",
              "      height: 32px;\n",
              "      padding: 0 0 0 0;\n",
              "      width: 32px;\n",
              "    }\n",
              "\n",
              "    .colab-df-convert:hover {\n",
              "      background-color: #E2EBFA;\n",
              "      box-shadow: 0px 1px 2px rgba(60, 64, 67, 0.3), 0px 1px 3px 1px rgba(60, 64, 67, 0.15);\n",
              "      fill: #174EA6;\n",
              "    }\n",
              "\n",
              "    [theme=dark] .colab-df-convert {\n",
              "      background-color: #3B4455;\n",
              "      fill: #D2E3FC;\n",
              "    }\n",
              "\n",
              "    [theme=dark] .colab-df-convert:hover {\n",
              "      background-color: #434B5C;\n",
              "      box-shadow: 0px 1px 3px 1px rgba(0, 0, 0, 0.15);\n",
              "      filter: drop-shadow(0px 1px 2px rgba(0, 0, 0, 0.3));\n",
              "      fill: #FFFFFF;\n",
              "    }\n",
              "  </style>\n",
              "\n",
              "      <script>\n",
              "        const buttonEl =\n",
              "          document.querySelector('#df-ec491c26-3173-4d8a-a32a-c4fe9af7e6c8 button.colab-df-convert');\n",
              "        buttonEl.style.display =\n",
              "          google.colab.kernel.accessAllowed ? 'block' : 'none';\n",
              "\n",
              "        async function convertToInteractive(key) {\n",
              "          const element = document.querySelector('#df-ec491c26-3173-4d8a-a32a-c4fe9af7e6c8');\n",
              "          const dataTable =\n",
              "            await google.colab.kernel.invokeFunction('convertToInteractive',\n",
              "                                                     [key], {});\n",
              "          if (!dataTable) return;\n",
              "\n",
              "          const docLinkHtml = 'Like what you see? Visit the ' +\n",
              "            '<a target=\"_blank\" href=https://colab.research.google.com/notebooks/data_table.ipynb>data table notebook</a>'\n",
              "            + ' to learn more about interactive tables.';\n",
              "          element.innerHTML = '';\n",
              "          dataTable['output_type'] = 'display_data';\n",
              "          await google.colab.output.renderOutput(dataTable, element);\n",
              "          const docLink = document.createElement('div');\n",
              "          docLink.innerHTML = docLinkHtml;\n",
              "          element.appendChild(docLink);\n",
              "        }\n",
              "      </script>\n",
              "    </div>\n",
              "  </div>\n",
              "  "
            ],
            "text/plain": [
              "      Unnamed: 0       Age  ...  phys_health_interview  mental_health_interview\n",
              "0             96  0.232143  ...                      2                        1\n",
              "1             97  0.303571  ...                      2                        1\n",
              "2             98  0.392857  ...                      0                        1\n",
              "3             99  0.142857  ...                      1                        1\n",
              "4            100  0.285714  ...                      0                        1\n",
              "...          ...       ...  ...                    ...                      ...\n",
              "1517        1613  0.267857  ...                      0                        1\n",
              "1518        1614  0.214286  ...                      1                        1\n",
              "1519        1615  0.321429  ...                      1                        1\n",
              "1520        1616  0.357143  ...                      1                        1\n",
              "1521        1617  0.571429  ...                      1                        1\n",
              "\n",
              "[1522 rows x 19 columns]"
            ]
          },
          "metadata": {},
          "execution_count": 5
        }
      ]
    },
    {
      "cell_type": "code",
      "source": [
        "survey = survey.drop(\"Unnamed: 0\", axis = 1)\n",
        "survey"
      ],
      "metadata": {
        "colab": {
          "base_uri": "https://localhost:8080/",
          "height": 488
        },
        "id": "SLgRwQg5nWan",
        "outputId": "aae3662b-00f9-407a-9eef-ddf493e962a0"
      },
      "execution_count": 6,
      "outputs": [
        {
          "output_type": "execute_result",
          "data": {
            "text/html": [
              "\n",
              "  <div id=\"df-92223b79-2c09-402e-bcf2-e9429119a277\">\n",
              "    <div class=\"colab-df-container\">\n",
              "      <div>\n",
              "<style scoped>\n",
              "    .dataframe tbody tr th:only-of-type {\n",
              "        vertical-align: middle;\n",
              "    }\n",
              "\n",
              "    .dataframe tbody tr th {\n",
              "        vertical-align: top;\n",
              "    }\n",
              "\n",
              "    .dataframe thead th {\n",
              "        text-align: right;\n",
              "    }\n",
              "</style>\n",
              "<table border=\"1\" class=\"dataframe\">\n",
              "  <thead>\n",
              "    <tr style=\"text-align: right;\">\n",
              "      <th></th>\n",
              "      <th>Age</th>\n",
              "      <th>Gender</th>\n",
              "      <th>Country</th>\n",
              "      <th>self_employed</th>\n",
              "      <th>family_history</th>\n",
              "      <th>treatment</th>\n",
              "      <th>work_interface</th>\n",
              "      <th>no_employees</th>\n",
              "      <th>benefits</th>\n",
              "      <th>care_options</th>\n",
              "      <th>wellness_program</th>\n",
              "      <th>seek_help</th>\n",
              "      <th>anonymity</th>\n",
              "      <th>leave</th>\n",
              "      <th>supervisor</th>\n",
              "      <th>coworkers</th>\n",
              "      <th>phys_health_interview</th>\n",
              "      <th>mental_health_interview</th>\n",
              "    </tr>\n",
              "  </thead>\n",
              "  <tbody>\n",
              "    <tr>\n",
              "      <th>0</th>\n",
              "      <td>0.232143</td>\n",
              "      <td>0</td>\n",
              "      <td>60</td>\n",
              "      <td>0</td>\n",
              "      <td>1</td>\n",
              "      <td>1</td>\n",
              "      <td>4</td>\n",
              "      <td>1</td>\n",
              "      <td>1</td>\n",
              "      <td>2</td>\n",
              "      <td>1</td>\n",
              "      <td>0</td>\n",
              "      <td>0</td>\n",
              "      <td>1</td>\n",
              "      <td>2</td>\n",
              "      <td>2</td>\n",
              "      <td>2</td>\n",
              "      <td>1</td>\n",
              "    </tr>\n",
              "    <tr>\n",
              "      <th>1</th>\n",
              "      <td>0.303571</td>\n",
              "      <td>1</td>\n",
              "      <td>60</td>\n",
              "      <td>0</td>\n",
              "      <td>1</td>\n",
              "      <td>0</td>\n",
              "      <td>1</td>\n",
              "      <td>1</td>\n",
              "      <td>3</td>\n",
              "      <td>2</td>\n",
              "      <td>1</td>\n",
              "      <td>1</td>\n",
              "      <td>0</td>\n",
              "      <td>1</td>\n",
              "      <td>1</td>\n",
              "      <td>2</td>\n",
              "      <td>2</td>\n",
              "      <td>1</td>\n",
              "    </tr>\n",
              "    <tr>\n",
              "      <th>2</th>\n",
              "      <td>0.392857</td>\n",
              "      <td>1</td>\n",
              "      <td>62</td>\n",
              "      <td>0</td>\n",
              "      <td>2</td>\n",
              "      <td>1</td>\n",
              "      <td>4</td>\n",
              "      <td>4</td>\n",
              "      <td>0</td>\n",
              "      <td>0</td>\n",
              "      <td>0</td>\n",
              "      <td>1</td>\n",
              "      <td>2</td>\n",
              "      <td>0</td>\n",
              "      <td>2</td>\n",
              "      <td>1</td>\n",
              "      <td>0</td>\n",
              "      <td>1</td>\n",
              "    </tr>\n",
              "    <tr>\n",
              "      <th>3</th>\n",
              "      <td>0.142857</td>\n",
              "      <td>1</td>\n",
              "      <td>62</td>\n",
              "      <td>0</td>\n",
              "      <td>0</td>\n",
              "      <td>1</td>\n",
              "      <td>4</td>\n",
              "      <td>5</td>\n",
              "      <td>3</td>\n",
              "      <td>2</td>\n",
              "      <td>0</td>\n",
              "      <td>0</td>\n",
              "      <td>2</td>\n",
              "      <td>0</td>\n",
              "      <td>2</td>\n",
              "      <td>2</td>\n",
              "      <td>1</td>\n",
              "      <td>1</td>\n",
              "    </tr>\n",
              "    <tr>\n",
              "      <th>4</th>\n",
              "      <td>0.285714</td>\n",
              "      <td>1</td>\n",
              "      <td>62</td>\n",
              "      <td>0</td>\n",
              "      <td>2</td>\n",
              "      <td>0</td>\n",
              "      <td>3</td>\n",
              "      <td>1</td>\n",
              "      <td>3</td>\n",
              "      <td>0</td>\n",
              "      <td>1</td>\n",
              "      <td>0</td>\n",
              "      <td>2</td>\n",
              "      <td>5</td>\n",
              "      <td>1</td>\n",
              "      <td>1</td>\n",
              "      <td>0</td>\n",
              "      <td>1</td>\n",
              "    </tr>\n",
              "    <tr>\n",
              "      <th>...</th>\n",
              "      <td>...</td>\n",
              "      <td>...</td>\n",
              "      <td>...</td>\n",
              "      <td>...</td>\n",
              "      <td>...</td>\n",
              "      <td>...</td>\n",
              "      <td>...</td>\n",
              "      <td>...</td>\n",
              "      <td>...</td>\n",
              "      <td>...</td>\n",
              "      <td>...</td>\n",
              "      <td>...</td>\n",
              "      <td>...</td>\n",
              "      <td>...</td>\n",
              "      <td>...</td>\n",
              "      <td>...</td>\n",
              "      <td>...</td>\n",
              "      <td>...</td>\n",
              "    </tr>\n",
              "    <tr>\n",
              "      <th>1517</th>\n",
              "      <td>0.267857</td>\n",
              "      <td>1</td>\n",
              "      <td>61</td>\n",
              "      <td>0</td>\n",
              "      <td>2</td>\n",
              "      <td>1</td>\n",
              "      <td>4</td>\n",
              "      <td>1</td>\n",
              "      <td>3</td>\n",
              "      <td>2</td>\n",
              "      <td>2</td>\n",
              "      <td>1</td>\n",
              "      <td>2</td>\n",
              "      <td>1</td>\n",
              "      <td>0</td>\n",
              "      <td>1</td>\n",
              "      <td>0</td>\n",
              "      <td>1</td>\n",
              "    </tr>\n",
              "    <tr>\n",
              "      <th>1518</th>\n",
              "      <td>0.214286</td>\n",
              "      <td>1</td>\n",
              "      <td>60</td>\n",
              "      <td>0</td>\n",
              "      <td>1</td>\n",
              "      <td>1</td>\n",
              "      <td>5</td>\n",
              "      <td>2</td>\n",
              "      <td>1</td>\n",
              "      <td>0</td>\n",
              "      <td>1</td>\n",
              "      <td>1</td>\n",
              "      <td>0</td>\n",
              "      <td>5</td>\n",
              "      <td>1</td>\n",
              "      <td>1</td>\n",
              "      <td>1</td>\n",
              "      <td>1</td>\n",
              "    </tr>\n",
              "    <tr>\n",
              "      <th>1519</th>\n",
              "      <td>0.321429</td>\n",
              "      <td>1</td>\n",
              "      <td>61</td>\n",
              "      <td>0</td>\n",
              "      <td>2</td>\n",
              "      <td>1</td>\n",
              "      <td>2</td>\n",
              "      <td>2</td>\n",
              "      <td>3</td>\n",
              "      <td>2</td>\n",
              "      <td>1</td>\n",
              "      <td>1</td>\n",
              "      <td>2</td>\n",
              "      <td>4</td>\n",
              "      <td>2</td>\n",
              "      <td>1</td>\n",
              "      <td>1</td>\n",
              "      <td>1</td>\n",
              "    </tr>\n",
              "    <tr>\n",
              "      <th>1520</th>\n",
              "      <td>0.357143</td>\n",
              "      <td>1</td>\n",
              "      <td>61</td>\n",
              "      <td>0</td>\n",
              "      <td>2</td>\n",
              "      <td>1</td>\n",
              "      <td>4</td>\n",
              "      <td>5</td>\n",
              "      <td>3</td>\n",
              "      <td>2</td>\n",
              "      <td>1</td>\n",
              "      <td>1</td>\n",
              "      <td>0</td>\n",
              "      <td>4</td>\n",
              "      <td>0</td>\n",
              "      <td>0</td>\n",
              "      <td>1</td>\n",
              "      <td>1</td>\n",
              "    </tr>\n",
              "    <tr>\n",
              "      <th>1521</th>\n",
              "      <td>0.571429</td>\n",
              "      <td>0</td>\n",
              "      <td>61</td>\n",
              "      <td>0</td>\n",
              "      <td>1</td>\n",
              "      <td>0</td>\n",
              "      <td>5</td>\n",
              "      <td>1</td>\n",
              "      <td>1</td>\n",
              "      <td>2</td>\n",
              "      <td>1</td>\n",
              "      <td>1</td>\n",
              "      <td>0</td>\n",
              "      <td>1</td>\n",
              "      <td>0</td>\n",
              "      <td>0</td>\n",
              "      <td>1</td>\n",
              "      <td>1</td>\n",
              "    </tr>\n",
              "  </tbody>\n",
              "</table>\n",
              "<p>1522 rows × 18 columns</p>\n",
              "</div>\n",
              "      <button class=\"colab-df-convert\" onclick=\"convertToInteractive('df-92223b79-2c09-402e-bcf2-e9429119a277')\"\n",
              "              title=\"Convert this dataframe to an interactive table.\"\n",
              "              style=\"display:none;\">\n",
              "        \n",
              "  <svg xmlns=\"http://www.w3.org/2000/svg\" height=\"24px\"viewBox=\"0 0 24 24\"\n",
              "       width=\"24px\">\n",
              "    <path d=\"M0 0h24v24H0V0z\" fill=\"none\"/>\n",
              "    <path d=\"M18.56 5.44l.94 2.06.94-2.06 2.06-.94-2.06-.94-.94-2.06-.94 2.06-2.06.94zm-11 1L8.5 8.5l.94-2.06 2.06-.94-2.06-.94L8.5 2.5l-.94 2.06-2.06.94zm10 10l.94 2.06.94-2.06 2.06-.94-2.06-.94-.94-2.06-.94 2.06-2.06.94z\"/><path d=\"M17.41 7.96l-1.37-1.37c-.4-.4-.92-.59-1.43-.59-.52 0-1.04.2-1.43.59L10.3 9.45l-7.72 7.72c-.78.78-.78 2.05 0 2.83L4 21.41c.39.39.9.59 1.41.59.51 0 1.02-.2 1.41-.59l7.78-7.78 2.81-2.81c.8-.78.8-2.07 0-2.86zM5.41 20L4 18.59l7.72-7.72 1.47 1.35L5.41 20z\"/>\n",
              "  </svg>\n",
              "      </button>\n",
              "      \n",
              "  <style>\n",
              "    .colab-df-container {\n",
              "      display:flex;\n",
              "      flex-wrap:wrap;\n",
              "      gap: 12px;\n",
              "    }\n",
              "\n",
              "    .colab-df-convert {\n",
              "      background-color: #E8F0FE;\n",
              "      border: none;\n",
              "      border-radius: 50%;\n",
              "      cursor: pointer;\n",
              "      display: none;\n",
              "      fill: #1967D2;\n",
              "      height: 32px;\n",
              "      padding: 0 0 0 0;\n",
              "      width: 32px;\n",
              "    }\n",
              "\n",
              "    .colab-df-convert:hover {\n",
              "      background-color: #E2EBFA;\n",
              "      box-shadow: 0px 1px 2px rgba(60, 64, 67, 0.3), 0px 1px 3px 1px rgba(60, 64, 67, 0.15);\n",
              "      fill: #174EA6;\n",
              "    }\n",
              "\n",
              "    [theme=dark] .colab-df-convert {\n",
              "      background-color: #3B4455;\n",
              "      fill: #D2E3FC;\n",
              "    }\n",
              "\n",
              "    [theme=dark] .colab-df-convert:hover {\n",
              "      background-color: #434B5C;\n",
              "      box-shadow: 0px 1px 3px 1px rgba(0, 0, 0, 0.15);\n",
              "      filter: drop-shadow(0px 1px 2px rgba(0, 0, 0, 0.3));\n",
              "      fill: #FFFFFF;\n",
              "    }\n",
              "  </style>\n",
              "\n",
              "      <script>\n",
              "        const buttonEl =\n",
              "          document.querySelector('#df-92223b79-2c09-402e-bcf2-e9429119a277 button.colab-df-convert');\n",
              "        buttonEl.style.display =\n",
              "          google.colab.kernel.accessAllowed ? 'block' : 'none';\n",
              "\n",
              "        async function convertToInteractive(key) {\n",
              "          const element = document.querySelector('#df-92223b79-2c09-402e-bcf2-e9429119a277');\n",
              "          const dataTable =\n",
              "            await google.colab.kernel.invokeFunction('convertToInteractive',\n",
              "                                                     [key], {});\n",
              "          if (!dataTable) return;\n",
              "\n",
              "          const docLinkHtml = 'Like what you see? Visit the ' +\n",
              "            '<a target=\"_blank\" href=https://colab.research.google.com/notebooks/data_table.ipynb>data table notebook</a>'\n",
              "            + ' to learn more about interactive tables.';\n",
              "          element.innerHTML = '';\n",
              "          dataTable['output_type'] = 'display_data';\n",
              "          await google.colab.output.renderOutput(dataTable, element);\n",
              "          const docLink = document.createElement('div');\n",
              "          docLink.innerHTML = docLinkHtml;\n",
              "          element.appendChild(docLink);\n",
              "        }\n",
              "      </script>\n",
              "    </div>\n",
              "  </div>\n",
              "  "
            ],
            "text/plain": [
              "           Age  Gender  ...  phys_health_interview  mental_health_interview\n",
              "0     0.232143       0  ...                      2                        1\n",
              "1     0.303571       1  ...                      2                        1\n",
              "2     0.392857       1  ...                      0                        1\n",
              "3     0.142857       1  ...                      1                        1\n",
              "4     0.285714       1  ...                      0                        1\n",
              "...        ...     ...  ...                    ...                      ...\n",
              "1517  0.267857       1  ...                      0                        1\n",
              "1518  0.214286       1  ...                      1                        1\n",
              "1519  0.321429       1  ...                      1                        1\n",
              "1520  0.357143       1  ...                      1                        1\n",
              "1521  0.571429       0  ...                      1                        1\n",
              "\n",
              "[1522 rows x 18 columns]"
            ]
          },
          "metadata": {},
          "execution_count": 6
        }
      ]
    },
    {
      "cell_type": "code",
      "source": [
        "train, test = train_test_split(survey, test_size = 0.1, random_state = 42)\n",
        "y_train = train['treatment']\n",
        "X_train = train[['Age', 'Gender', 'Country', 'self_employed', 'family_history', 'work_interface', 'no_employees', \n",
        "              'benefits', 'care_options', 'wellness_program', 'seek_help', 'anonymity', \n",
        "              'leave', 'supervisor', 'coworkers', 'phys_health_interview', 'mental_health_interview']]\n",
        "y_test = test['treatment']\n",
        "X_test = test[['Age', 'Gender', 'Country', 'self_employed', 'family_history', 'work_interface', 'no_employees', \n",
        "              'benefits', 'care_options', 'wellness_program', 'seek_help', 'anonymity', \n",
        "              'leave', 'supervisor', 'coworkers', 'phys_health_interview', 'mental_health_interview']]\n"
      ],
      "metadata": {
        "id": "i5ACp0nAnhvQ"
      },
      "execution_count": 7,
      "outputs": []
    },
    {
      "cell_type": "code",
      "source": [
        "gbc = GradientBoostingClassifier(random_state = 88)\n",
        "gbc.fit(X_train, y_train)"
      ],
      "metadata": {
        "colab": {
          "base_uri": "https://localhost:8080/"
        },
        "id": "cyWK0EjNnj-b",
        "outputId": "f4db3700-e154-4fdf-bd94-cec07e46a0c3"
      },
      "execution_count": 8,
      "outputs": [
        {
          "output_type": "execute_result",
          "data": {
            "text/plain": [
              "GradientBoostingClassifier(random_state=88)"
            ]
          },
          "metadata": {},
          "execution_count": 8
        }
      ]
    },
    {
      "cell_type": "code",
      "source": [
        "y_pred_gbc = gbc.predict(X_test)\n",
        "cm = confusion_matrix(y_test, y_pred_gbc)\n",
        "print(\"Accuracy: \", accuracy_score(y_test, y_pred_gbc))\n",
        "print(\"\\nConfusion matrix: \", cm)\n",
        "print(\"\\nTPR: \", recall_score(y_test, y_pred_gbc))"
      ],
      "metadata": {
        "colab": {
          "base_uri": "https://localhost:8080/"
        },
        "id": "e_ZEQeNynncf",
        "outputId": "0dc8d6c1-d317-4650-9aa6-6f430e416199"
      },
      "execution_count": 9,
      "outputs": [
        {
          "output_type": "stream",
          "name": "stdout",
          "text": [
            "Accuracy:  0.8627450980392157\n",
            "\n",
            "Confusion matrix:  [[49 15]\n",
            " [ 6 83]]\n",
            "\n",
            "TPR:  0.9325842696629213\n"
          ]
        }
      ]
    },
    {
      "cell_type": "code",
      "source": [
        "grid_values = {\"n_estimators\": np.linspace(100, 700, 7, dtype = 'int32'),\n",
        "              'learning_rate': [0.01, 0.1],\n",
        "              'max_features': ['sqrt', 'log2'],\n",
        "              'min_samples_split': [50, 200, 500, 1000, 1500],\n",
        "              'random_state': [88]}\n",
        "gbc2 = GradientBoostingClassifier()\n",
        "gbc2_cv = GridSearchCV(gbc2, param_grid = grid_values, cv = 5, n_jobs = -1)\n",
        "gbc2_cv.fit(X_train, y_train)"
      ],
      "metadata": {
        "colab": {
          "base_uri": "https://localhost:8080/"
        },
        "id": "Rg1OucoAnosv",
        "outputId": "ef463dde-58bf-4bc8-c824-826489dbb06e"
      },
      "execution_count": 10,
      "outputs": [
        {
          "output_type": "execute_result",
          "data": {
            "text/plain": [
              "GridSearchCV(cv=5, estimator=GradientBoostingClassifier(), n_jobs=-1,\n",
              "             param_grid={'learning_rate': [0.01, 0.1],\n",
              "                         'max_features': ['sqrt', 'log2'],\n",
              "                         'min_samples_split': [50, 200, 500, 1000, 1500],\n",
              "                         'n_estimators': array([100, 200, 300, 400, 500, 600, 700], dtype=int32),\n",
              "                         'random_state': [88]})"
            ]
          },
          "metadata": {},
          "execution_count": 10
        }
      ]
    },
    {
      "cell_type": "code",
      "source": [
        "y_pred_gbc2 = gbc2_cv.predict(X_test)\n",
        "cm = confusion_matrix(y_test, y_pred_gbc2)\n",
        "print(\"Accuracy: \", accuracy_score(y_test, y_pred_gbc2))\n",
        "print(\"\\nConfusion matrix: \", cm)\n",
        "print(\"\\nTPR: \", recall_score(y_test, y_pred_gbc2))"
      ],
      "metadata": {
        "colab": {
          "base_uri": "https://localhost:8080/"
        },
        "id": "Ph2SvuqpnqYC",
        "outputId": "41e25411-9156-4f9d-e001-ff4b4b527df0"
      },
      "execution_count": 11,
      "outputs": [
        {
          "output_type": "stream",
          "name": "stdout",
          "text": [
            "Accuracy:  0.8627450980392157\n",
            "\n",
            "Confusion matrix:  [[52 12]\n",
            " [ 9 80]]\n",
            "\n",
            "TPR:  0.898876404494382\n"
          ]
        }
      ]
    },
    {
      "cell_type": "code",
      "source": [
        "grid_value_cart = {\"ccp_alpha\": np.linspace(0, 0.005, 101),\n",
        "                   \"min_samples_leaf\": [5],\n",
        "                   \"min_samples_split\": [20],\n",
        "                   \"max_depth\": [30],\n",
        "                   \"random_state\": [88]}\n",
        "\n",
        "dtc = DecisionTreeClassifier(random_state = 88)\n",
        "dtc.fit(X_train, y_train)"
      ],
      "metadata": {
        "id": "yGvK55HXnrt1",
        "colab": {
          "base_uri": "https://localhost:8080/"
        },
        "outputId": "be406ea5-0993-4493-9903-ced770b442d7"
      },
      "execution_count": 12,
      "outputs": [
        {
          "output_type": "execute_result",
          "data": {
            "text/plain": [
              "DecisionTreeClassifier(random_state=88)"
            ]
          },
          "metadata": {},
          "execution_count": 12
        }
      ]
    },
    {
      "cell_type": "code",
      "source": [
        "y_pred_dtc = dtc.predict(X_test)\n",
        "cm = confusion_matrix(y_test, y_pred_dtc)\n",
        "print(\"Accuracy: \", accuracy_score(y_test, y_pred_dtc))\n",
        "print(\"\\nConfusion matrix: \", cm)\n",
        "print(\"\\nTPR: \", recall_score(y_test, y_pred_dtc))"
      ],
      "metadata": {
        "colab": {
          "base_uri": "https://localhost:8080/"
        },
        "id": "_gq6zhHTsP8Q",
        "outputId": "1e2a355e-d37d-4ef1-febb-5b967a569125"
      },
      "execution_count": 13,
      "outputs": [
        {
          "output_type": "stream",
          "name": "stdout",
          "text": [
            "Accuracy:  0.7843137254901961\n",
            "\n",
            "Confusion matrix:  [[52 12]\n",
            " [21 68]]\n",
            "\n",
            "TPR:  0.7640449438202247\n"
          ]
        }
      ]
    },
    {
      "cell_type": "code",
      "source": [
        "dtc_cv = GridSearchCV(dtc, param_grid=grid_value_cart, cv=5, verbose=1, scoring='accuracy')\n",
        "dtc_cv.fit(X_train, y_train)"
      ],
      "metadata": {
        "colab": {
          "base_uri": "https://localhost:8080/"
        },
        "id": "7cB5L-lcsYso",
        "outputId": "34185320-7ac0-403d-f171-8c3cff4ab11e"
      },
      "execution_count": 14,
      "outputs": [
        {
          "output_type": "stream",
          "name": "stdout",
          "text": [
            "Fitting 5 folds for each of 101 candidates, totalling 505 fits\n"
          ]
        },
        {
          "output_type": "execute_result",
          "data": {
            "text/plain": [
              "GridSearchCV(cv=5, estimator=DecisionTreeClassifier(random_state=88),\n",
              "             param_grid={'ccp_alpha': array([0.00e+00, 5.00e-05, 1.00e-04, 1.50e-04, 2.00e-04, 2.50e-04,\n",
              "       3.00e-04, 3.50e-04, 4.00e-04, 4.50e-04, 5.00e-04, 5.50e-04,\n",
              "       6.00e-04, 6.50e-04, 7.00e-04, 7.50e-04, 8.00e-04, 8.50e-04,\n",
              "       9.00e-04, 9.50e-04, 1.00e-03, 1.05e-03, 1.10e-03, 1.15e-03,\n",
              "       1.20e-03, 1.25e-03, 1.30e-03, 1.35e-03...\n",
              "       3.60e-03, 3.65e-03, 3.70e-03, 3.75e-03, 3.80e-03, 3.85e-03,\n",
              "       3.90e-03, 3.95e-03, 4.00e-03, 4.05e-03, 4.10e-03, 4.15e-03,\n",
              "       4.20e-03, 4.25e-03, 4.30e-03, 4.35e-03, 4.40e-03, 4.45e-03,\n",
              "       4.50e-03, 4.55e-03, 4.60e-03, 4.65e-03, 4.70e-03, 4.75e-03,\n",
              "       4.80e-03, 4.85e-03, 4.90e-03, 4.95e-03, 5.00e-03]),\n",
              "                         'max_depth': [30], 'min_samples_leaf': [5],\n",
              "                         'min_samples_split': [20], 'random_state': [88]},\n",
              "             scoring='accuracy', verbose=1)"
            ]
          },
          "metadata": {},
          "execution_count": 14
        }
      ]
    },
    {
      "cell_type": "code",
      "source": [
        "y_pred_dtc2 = dtc_cv.predict(X_test)\n",
        "cm = confusion_matrix(y_test, y_pred_dtc2)\n",
        "print(\"Accuracy: \", accuracy_score(y_test, y_pred_dtc2))\n",
        "print(\"\\nConfusion matrix: \", cm)\n",
        "print(\"\\nTPR: \", recall_score(y_test, y_pred_dtc2))"
      ],
      "metadata": {
        "colab": {
          "base_uri": "https://localhost:8080/"
        },
        "id": "y96bds1Tst9W",
        "outputId": "da6cb555-db4c-4f04-d9a3-3f21104bf850"
      },
      "execution_count": 15,
      "outputs": [
        {
          "output_type": "stream",
          "name": "stdout",
          "text": [
            "Accuracy:  0.8562091503267973\n",
            "\n",
            "Confusion matrix:  [[51 13]\n",
            " [ 9 80]]\n",
            "\n",
            "TPR:  0.898876404494382\n"
          ]
        }
      ]
    },
    {
      "cell_type": "code",
      "source": [
        "expected_loss = dtc_cv.cv_results_['mean_test_score']\n",
        "ccp = dtc_cv.cv_results_['param_ccp_alpha'].data\n",
        "# expected_loss, ccp"
      ],
      "metadata": {
        "id": "se3LdSThs0El"
      },
      "execution_count": 16,
      "outputs": []
    },
    {
      "cell_type": "code",
      "source": [
        "plt.scatter(ccp, expected_loss, s = 2)\n",
        "plt.plot(ccp, expected_loss, linewidth = 3)\n",
        "plt.xlabel(\"Alpha\")\n",
        "plt.ylabel(\"Accuracy\")\n",
        "plt.title(\"CART CV Best Alpha Plot\")\n",
        "plt.grid(True, which = 'both')"
      ],
      "metadata": {
        "colab": {
          "base_uri": "https://localhost:8080/",
          "height": 295
        },
        "id": "uFLQS7OuusYy",
        "outputId": "18622b9a-305c-4d1e-bc91-fb686066cbab"
      },
      "execution_count": 17,
      "outputs": [
        {
          "output_type": "display_data",
          "data": {
            "image/png": "[encoded data removed]",
            "text/plain": [
              "<Figure size 432x288 with 1 Axes>"
            ]
          },
          "metadata": {
            "needs_background": "light"
          }
        }
      ]
    },
    {
      "cell_type": "code",
      "source": [
        "y_cart = dtc_cv.best_estimator_.predict(X_test)\n",
        "(y_cart == y_test).mean()"
      ],
      "metadata": {
        "colab": {
          "base_uri": "https://localhost:8080/"
        },
        "id": "D659PLZ4vE5S",
        "outputId": "a5ff0cf0-51f1-4b8d-8f1a-486a9dbec0aa"
      },
      "execution_count": 18,
      "outputs": [
        {
          "output_type": "execute_result",
          "data": {
            "text/plain": [
              "0.8562091503267973"
            ]
          },
          "metadata": {},
          "execution_count": 18
        }
      ]
    },
    {
      "cell_type": "code",
      "source": [
        "dtc_cv.best_estimator_"
      ],
      "metadata": {
        "colab": {
          "base_uri": "https://localhost:8080/"
        },
        "id": "3XcNzuUOvpty",
        "outputId": "5d057690-8040-4c01-e8a1-811e05f82eda"
      },
      "execution_count": 19,
      "outputs": [
        {
          "output_type": "execute_result",
          "data": {
            "text/plain": [
              "DecisionTreeClassifier(ccp_alpha=0.00305, max_depth=30, min_samples_leaf=5,\n",
              "                       min_samples_split=20, random_state=88)"
            ]
          },
          "metadata": {},
          "execution_count": 19
        }
      ]
    },
    {
      "cell_type": "code",
      "source": [
        "from sklearn.ensemble import RandomForestClassifier \n",
        "from sklearn.model_selection import GridSearchCV \n",
        "#from sklearn.model import KFold\n",
        "grid_values = {'ccp_alpha': np.linspace(0,0.2, 100), \n",
        "              'min_samples_leaf': [5], # min number samples required for a leaf node\n",
        "              'min_samples_split': [20], # min number of observations in a bucket required for a split\n",
        "              'max_depth': [30],# max nodes of a decision tree \n",
        "              'random_state': [88]}\n",
        "rfc = RandomForestClassifier(random_state = 88)\n",
        "#cv = KFold\n",
        "rfc_cv_acc = GridSearchCV(rfc, param_grid = grid_values, scoring = 'accuracy', cv = 8, verbose = 1)\n",
        "# note that the default metric used to optimized grid_value is accuracy\n",
        "rfc_cv_acc.fit(X_train, y_train)"
      ],
      "metadata": {
        "id": "suRTNxVXyK3k",
        "colab": {
          "base_uri": "https://localhost:8080/"
        },
        "outputId": "e55c5ae0-7ddc-4575-d47b-4d36df29914b"
      },
      "execution_count": 20,
      "outputs": [
        {
          "output_type": "stream",
          "name": "stdout",
          "text": [
            "Fitting 8 folds for each of 100 candidates, totalling 800 fits\n"
          ]
        },
        {
          "output_type": "execute_result",
          "data": {
            "text/plain": [
              "GridSearchCV(cv=8, estimator=RandomForestClassifier(random_state=88),\n",
              "             param_grid={'ccp_alpha': array([0.        , 0.0020202 , 0.0040404 , 0.00606061, 0.00808081,\n",
              "       0.01010101, 0.01212121, 0.01414141, 0.01616162, 0.01818182,\n",
              "       0.02020202, 0.02222222, 0.02424242, 0.02626263, 0.02828283,\n",
              "       0.03030303, 0.03232323, 0.03434343, 0.03636364, 0.03838384,\n",
              "       0.04040404, 0.04242424, 0.04444444, 0.046464...\n",
              "       0.15151515, 0.15353535, 0.15555556, 0.15757576, 0.15959596,\n",
              "       0.16161616, 0.16363636, 0.16565657, 0.16767677, 0.16969697,\n",
              "       0.17171717, 0.17373737, 0.17575758, 0.17777778, 0.17979798,\n",
              "       0.18181818, 0.18383838, 0.18585859, 0.18787879, 0.18989899,\n",
              "       0.19191919, 0.19393939, 0.1959596 , 0.1979798 , 0.2       ]),\n",
              "                         'max_depth': [30], 'min_samples_leaf': [5],\n",
              "                         'min_samples_split': [20], 'random_state': [88]},\n",
              "             scoring='accuracy', verbose=1)"
            ]
          },
          "metadata": {},
          "execution_count": 20
        }
      ]
    },
    {
      "cell_type": "code",
      "source": [
        "print('Best CCP_alpha:', rfc_cv_acc.best_params_)\n",
        "print('Grid best score Accuracy:', rfc_cv_acc.best_score_)"
      ],
      "metadata": {
        "colab": {
          "base_uri": "https://localhost:8080/"
        },
        "id": "IMVE3hPiqNQn",
        "outputId": "b34aa815-532f-484a-c4f2-e2e4ced219fd"
      },
      "execution_count": 21,
      "outputs": [
        {
          "output_type": "stream",
          "name": "stdout",
          "text": [
            "Best CCP_alpha: {'ccp_alpha': 0.00202020202020202, 'max_depth': 30, 'min_samples_leaf': 5, 'min_samples_split': 20, 'random_state': 88}\n",
            "Grid best score Accuracy: 0.8144507343941247\n"
          ]
        }
      ]
    },
    {
      "cell_type": "code",
      "source": [
        "rfc1 = RandomForestClassifier()\n",
        "rfc1.fit(X_train, y_train)"
      ],
      "metadata": {
        "colab": {
          "base_uri": "https://localhost:8080/"
        },
        "id": "eVElKnL5qQVd",
        "outputId": "a4e0a1c2-2623-4cdc-e042-74d73cd919f8"
      },
      "execution_count": 22,
      "outputs": [
        {
          "output_type": "execute_result",
          "data": {
            "text/plain": [
              "RandomForestClassifier()"
            ]
          },
          "metadata": {},
          "execution_count": 22
        }
      ]
    },
    {
      "cell_type": "code",
      "source": [
        "# cross validate number of columns \n",
        "param_grid2 = {\n",
        "    'max_features': list(range(1, len(X_train.columns) + 1)), \n",
        "    'max_depth': [50], \n",
        "    'criterion': ['entropy']}\n",
        "rf2 = RandomForestClassifier()\n",
        "rf_cv_acc2 = GridSearchCV(rf2,param_grid = param_grid2, scoring = 'accuracy', cv = 8, verbose = 1 )\n",
        "rf_cv_acc2.fit(X_train, y_train)"
      ],
      "metadata": {
        "colab": {
          "base_uri": "https://localhost:8080/"
        },
        "id": "MRd2Id86qSHF",
        "outputId": "7ef68594-f2e4-4e10-d3c0-a3a5ef0081da"
      },
      "execution_count": 23,
      "outputs": [
        {
          "output_type": "stream",
          "name": "stdout",
          "text": [
            "Fitting 8 folds for each of 17 candidates, totalling 136 fits\n"
          ]
        },
        {
          "output_type": "execute_result",
          "data": {
            "text/plain": [
              "GridSearchCV(cv=8, estimator=RandomForestClassifier(),\n",
              "             param_grid={'criterion': ['entropy'], 'max_depth': [50],\n",
              "                         'max_features': [1, 2, 3, 4, 5, 6, 7, 8, 9, 10, 11, 12,\n",
              "                                          13, 14, 15, 16, 17]},\n",
              "             scoring='accuracy', verbose=1)"
            ]
          },
          "metadata": {},
          "execution_count": 23
        }
      ]
    },
    {
      "cell_type": "code",
      "source": [
        "ccp_alpha = rf_cv_acc2.cv_results_['param_max_features'].data\n",
        "r2_score = rf_cv_acc2.cv_results_['mean_test_score']\n",
        "print('Grid best Max Features:', rf_cv_acc2.best_params_['max_features'])\n"
      ],
      "metadata": {
        "colab": {
          "base_uri": "https://localhost:8080/"
        },
        "id": "heAyFTgNqUE1",
        "outputId": "1e10e5f4-adf0-489f-b82d-6d5862a609b9"
      },
      "execution_count": 24,
      "outputs": [
        {
          "output_type": "stream",
          "name": "stdout",
          "text": [
            "Grid best Max Features: 9\n"
          ]
        }
      ]
    },
    {
      "cell_type": "code",
      "source": [
        "final_rfc = RandomForestClassifier(max_features= rf_cv_acc2.best_params_['max_features'], ccp_alpha=rfc_cv_acc.best_params_['ccp_alpha'])\n",
        "final_rfc.fit(X_train, y_train)\n",
        "final_rfc_pred = final_rfc.predict(X_test)\n"
      ],
      "metadata": {
        "id": "Mavq_u5oqZzu"
      },
      "execution_count": 25,
      "outputs": []
    },
    {
      "cell_type": "code",
      "source": [
        "from sklearn.metrics import accuracy_score\n",
        "accuracy_score_1 = accuracy_score(y_test, final_rfc_pred)\n",
        "print('Random Forest Classification Model', accuracy_score_1)"
      ],
      "metadata": {
        "colab": {
          "base_uri": "https://localhost:8080/"
        },
        "id": "XQ_7V7l8qcNy",
        "outputId": "7bdb7212-cfa9-48c3-b06e-f2aa58bef86b"
      },
      "execution_count": 26,
      "outputs": [
        {
          "output_type": "stream",
          "name": "stdout",
          "text": [
            "Random Forest Classification Model 0.8627450980392157\n"
          ]
        }
      ]
    },
    {
      "cell_type": "code",
      "source": [
        "from sklearn.metrics import confusion_matrix\n",
        "cm = confusion_matrix(y_test, final_rfc_pred)\n",
        "print('Confusion Matrix: \\n', cm)\n",
        "tpr_rate = cm[1][1]/(cm[1][1] + cm[0][1])\n",
        "fpr_rate = cm[1][0]/(cm[1][0]+ cm[0][0])\n",
        "print('True Positive Rate:' , tpr_rate)\n",
        "print('False Positive Rate:', fpr_rate)"
      ],
      "metadata": {
        "colab": {
          "base_uri": "https://localhost:8080/"
        },
        "id": "MT9dP31uqdzj",
        "outputId": "57498132-7738-4f77-9bd1-7ca6cecd76de"
      },
      "execution_count": 27,
      "outputs": [
        {
          "output_type": "stream",
          "name": "stdout",
          "text": [
            "Confusion Matrix: \n",
            " [[50 14]\n",
            " [ 7 82]]\n",
            "True Positive Rate: 0.8541666666666666\n",
            "False Positive Rate: 0.12280701754385964\n"
          ]
        }
      ]
    },
    {
      "cell_type": "code",
      "source": [
        "from sklearn.metrics import accuracy_score\n",
        "def bootstrap_validation(sample_num, model, X_traindata, X_testdata, y_traindata, y_testdata):\n",
        "    model = model.fit(X_traindata, y_traindata)\n",
        "    output_array = []\n",
        "    for bs_iter in range(sample_num):\n",
        "        bs_index = np.random.choice(X_testdata.index, len(X_testdata), replace = True)\n",
        "        bs_data = X_testdata.loc[bs_index]\n",
        "        bs_label = y_testdata.loc[bs_index]\n",
        "        bs_predictions = model.predict(bs_data)\n",
        "        output_array.append(accuracy_score(bs_label, bs_predictions))\n",
        "    return pd.DataFrame(output_array)"
      ],
      "metadata": {
        "id": "wwvowI3yr3gM"
      },
      "execution_count": 28,
      "outputs": []
    },
    {
      "cell_type": "code",
      "source": [
        "rfc = RandomForestClassifier(max_features= rf_cv_acc2.best_params_['max_features'], ccp_alpha=rfc_cv_acc.best_params_['ccp_alpha'])\n",
        "bootstraps = bootstrap_validation( 50, rfc,  X_train, X_test, y_train, y_test)\n",
        "CI_bootstrap = np.quantile(bootstraps, np.array([0.25, 0.75]))\n",
        "CI_bootstrap"
      ],
      "metadata": {
        "colab": {
          "base_uri": "https://localhost:8080/"
        },
        "id": "cQLh6bywqgq1",
        "outputId": "d1e83796-1a25-4e76-8e66-eac4164226c5"
      },
      "execution_count": 29,
      "outputs": [
        {
          "output_type": "execute_result",
          "data": {
            "text/plain": [
              "array([0.83006536, 0.87581699])"
            ]
          },
          "metadata": {},
          "execution_count": 29
        }
      ]
    },
    {
      "cell_type": "code",
      "source": [
        "import time\n",
        "\n",
        "def bootstrap_validation(test_data, test_label, train_label, model, metrics_list, sample=100, random_state=66):\n",
        "  tic = time.time()\n",
        "  n_sample = sample\n",
        "  metric = metrics_list[0]\n",
        "  output_array= []\n",
        "  for bs_iter in range(n_sample):\n",
        "   bs_index = np.random.choice(test_data.index, len(test_data.index), replace=True)\n",
        "   bs_data = test_data.loc[bs_index]\n",
        "   bs_label = test_label.loc[bs_index]\n",
        "   bs_predicted = model.predict(bs_data)\n",
        "   output_array.append(metric(bs_predicted,bs_label,train_label))\n",
        "  \n",
        "  output_df = pd.DataFrame(output_array)\n",
        "  return output_df"
      ],
      "metadata": {
        "id": "LcCluxSmrvWv"
      },
      "execution_count": 30,
      "outputs": []
    },
    {
      "cell_type": "code",
      "source": [
        "def accuracy(predictions, y_test, y_train):\n",
        "  return (np.sum(predictions == y_test) / len(y_test))"
      ],
      "metadata": {
        "id": "T9H95d9LK6ZM"
      },
      "execution_count": 31,
      "outputs": []
    },
    {
      "cell_type": "code",
      "source": [
        "bs_output_gbc2_cv_acc = bootstrap_validation(X_test,y_test,\n",
        "                                        y_train, gbc2_cv, \n",
        "                                        metrics_list= [accuracy], \n",
        "                                        sample = 3000)"
      ],
      "metadata": {
        "id": "4TpgJ4stLCAc"
      },
      "execution_count": 32,
      "outputs": []
    },
    {
      "cell_type": "code",
      "source": [
        "fig, axs = plt.subplots(ncols = 1, figsize=(8,5))\n",
        "plt.hist(bs_output_gbc2_cv_acc.iloc[:,0].array, bins=20, \n",
        "         edgecolor='green', linewidth=2,color = \"grey\");\n",
        "axs.set_xlabel('Bootstrap Gradient Booster with CV Estimate (RF)', fontsize=16)\n",
        "axs.set_ylabel('Count', fontsize=16)"
      ],
      "metadata": {
        "id": "DGdGJVOQLGuK",
        "colab": {
          "base_uri": "https://localhost:8080/",
          "height": 356
        },
        "outputId": "987538fb-3d23-4226-dd5d-58e0f0049e76"
      },
      "execution_count": 33,
      "outputs": [
        {
          "output_type": "execute_result",
          "data": {
            "text/plain": [
              "Text(0, 0.5, 'Count')"
            ]
          },
          "metadata": {},
          "execution_count": 33
        },
        {
          "output_type": "display_data",
          "data": {
            "image/png": "[encoded data removed]",
            "text/plain": [
              "<Figure size 576x360 with 1 Axes>"
            ]
          },
          "metadata": {
            "needs_background": "light"
          }
        }
      ]
    },
    {
      "cell_type": "code",
      "source": [
        "bs_output_dtc_cv_acc = bootstrap_validation(X_test,y_test,\n",
        "                                        y_train, dtc_cv, \n",
        "                                        metrics_list= [accuracy], \n",
        "                                        sample = 3000)"
      ],
      "metadata": {
        "id": "HWCTTK4xLITi"
      },
      "execution_count": 34,
      "outputs": []
    },
    {
      "cell_type": "code",
      "source": [
        "fig, axs = plt.subplots(ncols = 1, figsize=(8,5))\n",
        "plt.hist(bs_output_dtc_cv_acc.iloc[:,0].array, bins=20, \n",
        "         edgecolor='green', linewidth=2,color = \"grey\");\n",
        "axs.set_xlabel('Bootstrap Decision Tree Classifier with CV Estimate (RF)', fontsize=16)\n",
        "axs.set_ylabel('Count', fontsize=16)"
      ],
      "metadata": {
        "id": "D_dX3zWnLOXB",
        "colab": {
          "base_uri": "https://localhost:8080/",
          "height": 356
        },
        "outputId": "3394e2d4-2025-4577-e782-58f3e2508f79"
      },
      "execution_count": 35,
      "outputs": [
        {
          "output_type": "execute_result",
          "data": {
            "text/plain": [
              "Text(0, 0.5, 'Count')"
            ]
          },
          "metadata": {},
          "execution_count": 35
        },
        {
          "output_type": "display_data",
          "data": {
            "image/png": "[encoded data removed]",
            "text/plain": [
              "<Figure size 576x360 with 1 Axes>"
            ]
          },
          "metadata": {
            "needs_background": "light"
          }
        }
      ]
    },
    {
      "cell_type": "code",
      "source": [
        "bs_output_rfc_acc = bootstrap_validation(X_test,y_test,\n",
        "                                        y_train, final_rfc, \n",
        "                                        metrics_list= [accuracy], \n",
        "                                        sample = 3000)"
      ],
      "metadata": {
        "id": "7ageMzd0LSAD"
      },
      "execution_count": 36,
      "outputs": []
    },
    {
      "cell_type": "code",
      "source": [
        "fig, axs = plt.subplots(ncols = 1, figsize=(8,5))\n",
        "plt.hist(bs_output_rfc_acc.iloc[:,0].array, bins=20, \n",
        "         edgecolor='green', linewidth=2,color = \"grey\");\n",
        "axs.set_xlabel('Bootstrap Random Forest Classifier', fontsize=16)\n",
        "axs.set_ylabel('Count', fontsize=16)"
      ],
      "metadata": {
        "id": "glkVbmeNLeTI",
        "colab": {
          "base_uri": "https://localhost:8080/",
          "height": 356
        },
        "outputId": "830c195b-909d-4d5e-a7d1-efcf11f83103"
      },
      "execution_count": 37,
      "outputs": [
        {
          "output_type": "execute_result",
          "data": {
            "text/plain": [
              "Text(0, 0.5, 'Count')"
            ]
          },
          "metadata": {},
          "execution_count": 37
        },
        {
          "output_type": "display_data",
          "data": {
            "image/png": "[encoded data removed]",
            "text/plain": [
              "<Figure size 576x360 with 1 Axes>"
            ]
          },
          "metadata": {
            "needs_background": "light"
          }
        }
      ]
    },
    {
      "cell_type": "code",
      "source": [
        "from sklearn.metrics import accuracy_score\n",
        "def bootstrap_validation(sample_num, model, X_traindata, X_testdata, y_traindata, y_testdata):\n",
        "    model = model.fit(X_traindata, y_traindata)\n",
        "    output_array = []\n",
        "    for bs_iter in range(sample_num):\n",
        "        bs_index = np.random.choice(X_testdata.index, len(X_testdata), replace = True)\n",
        "        bs_data = X_testdata.loc[bs_index]\n",
        "        bs_label = y_testdata.loc[bs_index]\n",
        "        bs_predictions = model.predict(bs_data)\n",
        "        output_array.append(accuracy_score(bs_label, bs_predictions))\n",
        "    return pd.DataFrame(output_array)"
      ],
      "metadata": {
        "id": "yDx3PilSPuVi"
      },
      "execution_count": 38,
      "outputs": []
    },
    {
      "cell_type": "code",
      "source": [
        "rfc = RandomForestClassifier(max_features= rf_cv_acc2.best_params_['max_features'], ccp_alpha=rfc_cv_acc.best_params_['ccp_alpha'])\n",
        "bootstraps = bootstrap_validation( 50, rfc,  X_train, X_test, y_train, y_test)\n",
        "CI_bootstrap_rfc = np.quantile(bootstraps, np.array([0.25, 0.75]))\n",
        "CI_bootstrap_rfc"
      ],
      "metadata": {
        "id": "avrIsXx4LxBL",
        "colab": {
          "base_uri": "https://localhost:8080/"
        },
        "outputId": "ada007e4-85cd-463d-f592-d922593a6b20"
      },
      "execution_count": 39,
      "outputs": [
        {
          "output_type": "execute_result",
          "data": {
            "text/plain": [
              "array([0.83660131, 0.88235294])"
            ]
          },
          "metadata": {},
          "execution_count": 39
        }
      ]
    },
    {
      "cell_type": "code",
      "source": [
        "bootstraps = bootstrap_validation( 50, gbc2_cv,  X_train, X_test, y_train, y_test)\n",
        "CI_bootstrap_gbc_cv = np.quantile(bootstraps, np.array([0.25, 0.75]))\n",
        "CI_bootstrap_gbc_cv"
      ],
      "metadata": {
        "id": "bNhHZ2RiL1rL",
        "colab": {
          "base_uri": "https://localhost:8080/"
        },
        "outputId": "e172dac8-0f16-4a41-8b39-13973d9bd0f4"
      },
      "execution_count": 40,
      "outputs": [
        {
          "output_type": "execute_result",
          "data": {
            "text/plain": [
              "array([0.8496732 , 0.88888889])"
            ]
          },
          "metadata": {},
          "execution_count": 40
        }
      ]
    },
    {
      "cell_type": "code",
      "source": [
        "bootstraps = bootstrap_validation( 50, dtc_cv,  X_train, X_test, y_train, y_test)\n",
        "CI_bootstrap_dtc_cv = np.quantile(bootstraps, np.array([0.25, 0.75]))\n",
        "CI_bootstrap_dtc_cv"
      ],
      "metadata": {
        "id": "6nGIACoYL7oJ",
        "colab": {
          "base_uri": "https://localhost:8080/"
        },
        "outputId": "cd7e3570-4122-40d4-92b1-c9baf8c42369"
      },
      "execution_count": 41,
      "outputs": [
        {
          "output_type": "stream",
          "name": "stdout",
          "text": [
            "Fitting 5 folds for each of 101 candidates, totalling 505 fits\n"
          ]
        },
        {
          "output_type": "execute_result",
          "data": {
            "text/plain": [
              "array([0.83660131, 0.87581699])"
            ]
          },
          "metadata": {},
          "execution_count": 41
        }
      ]
    }
  ]
}